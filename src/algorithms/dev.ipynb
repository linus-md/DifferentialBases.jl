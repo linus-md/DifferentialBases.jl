{
 "cells": [
  {
   "cell_type": "code",
   "execution_count": 75,
   "metadata": {},
   "outputs": [
    {
     "data": {
      "text/plain": [
       "simple_pendulum (generic function with 1 method)"
      ]
     },
     "metadata": {},
     "output_type": "display_data"
    }
   ],
   "source": [
    "using AbstractAlgebra\n",
    "using AlgebraicSolving\n",
    "\n",
    "function simple_pendulum()\n",
    "    R, variables = AlgebraicSolving.polynomial_ring(\n",
    "        AlgebraicSolving.GF(101),[\"x\",\"y\",\"u\",\"v\",\"l\",\"dl\"], \n",
    "        internal_ordering=:degrevlex)\n",
    "    (x,y,u,v,l,dl) = variables\n",
    "\n",
    "    derivatives = Dict(\n",
    "        x => u,\n",
    "        y => v,\n",
    "        u => x*l,\n",
    "        v => y*l - 1,\n",
    "        l => dl)\n",
    "\n",
    "    ideal = AlgebraicSolving.Ideal([x^2 + y^2 - 1])\n",
    "    return ideal, derivatives, R\n",
    "end"
   ]
  },
  {
   "cell_type": "code",
   "execution_count": 76,
   "metadata": {},
   "outputs": [
    {
     "data": {
      "text/plain": [
       "_manage_rings (generic function with 1 method)"
      ]
     },
     "metadata": {},
     "output_type": "display_data"
    }
   ],
   "source": [
    "function _manage_rings(ideal, derivatives, R)\n",
    "    S_proper = []\n",
    "    R_elim = []\n",
    "    for var in R.data.S\n",
    "        if Symbol(var) in [Symbol(key) for key in keys(derivatives)]\n",
    "            push!(S_proper, Symbol(var))\n",
    "        else    \n",
    "            push!(R_elim, Symbol(var))\n",
    "        end\n",
    "    end\n",
    "\n",
    "    # Create new ring, where the first block is the eliminated variables\n",
    "    R_vars_proper = append!(R_elim, S_proper)\n",
    "    R_names = [string(var) for var in R_vars_proper]\n",
    "    R_new, R_names = AlgebraicSolving.polynomial_ring(\n",
    "        base_ring(R), R_names, internal_ordering=:degrevlex)\n",
    "    \n",
    "    ## Type cast all polynomials to the new ring\n",
    "    #ideal_new = AlgebraicSolving.Ideal([R(0)])\n",
    "    #for poly in ideal.gens\n",
    "    #    poly_new = AlgebraicSolving.Polynomial(R_new, poly.data.coeffs)\n",
    "    #    push!(ideal_new.polynomials, poly_new)\n",
    "    #end\n",
    "\n",
    "    return R_new\n",
    "end"
   ]
  },
  {
   "cell_type": "code",
   "execution_count": 77,
   "metadata": {},
   "outputs": [
    {
     "data": {
      "text/plain": [
       "Multivariate polynomial ring in 6 variables dl, x, y, u, ..., l\n",
       "  over prime field of characteristic 101"
      ]
     },
     "metadata": {},
     "output_type": "display_data"
    }
   ],
   "source": [
    "ideal, derivatives, R = simple_pendulum()\n",
    "_manage_rings(ideal, derivatives, R)"
   ]
  },
  {
   "cell_type": "code",
   "execution_count": 78,
   "metadata": {},
   "outputs": [
    {
     "data": {
      "text/plain": [
       "Multivariate polynomial ring in 6 variables x, y, u, v, ..., dl\n",
       "  over prime field of characteristic 101"
      ]
     },
     "metadata": {},
     "output_type": "display_data"
    }
   ],
   "source": [
    "parent(ideal[1])"
   ]
  },
  {
   "cell_type": "code",
   "execution_count": 79,
   "metadata": {},
   "outputs": [],
   "source": []
  }
 ],
 "metadata": {
  "kernelspec": {
   "display_name": "Julia 1.10.4",
   "language": "julia",
   "name": "julia-1.10"
  },
  "language_info": {
   "file_extension": ".jl",
   "mimetype": "application/julia",
   "name": "julia",
   "version": "1.10.4"
  }
 },
 "nbformat": 4,
 "nbformat_minor": 2
}
