{
 "cells": [
  {
   "cell_type": "code",
   "execution_count": 75,
   "metadata": {},
   "outputs": [
    {
     "data": {
      "text/plain": [
       "simple_pendulum (generic function with 1 method)"
      ]
     },
     "metadata": {},
     "output_type": "display_data"
    }
   ],
   "source": [
    "using AbstractAlgebra\n",
    "using AlgebraicSolving\n",
    "\n",
    "function simple_pendulum()\n",
    "    R, variables = AlgebraicSolving.polynomial_ring(\n",
    "        AlgebraicSolving.GF(101),[\"x\",\"y\",\"u\",\"v\",\"l\",\"dl\"], \n",
    "        internal_ordering=:degrevlex)\n",
    "    (x,y,u,v,l,dl) = variables\n",
    "\n",
    "    derivatives = Dict(\n",
    "        x => u,\n",
    "        y => v,\n",
    "        u => x*l,\n",
    "        v => y*l - 1,\n",
    "        l => dl)\n",
    "\n",
    "    ideal = AlgebraicSolving.Ideal([x^2 + y^2 - 1])\n",
    "    return ideal, derivatives, R\n",
    "end"
   ]
  },
  {
   "cell_type": "code",
   "execution_count": 80,
   "metadata": {},
   "outputs": [
    {
     "data": {
      "text/plain": [
       "_manage_rings (generic function with 1 method)"
      ]
     },
     "metadata": {},
     "output_type": "display_data"
    }
   ],
   "source": [
    "function _manage_rings(ideal, derivatives, R)\n",
    "    S_proper = []\n",
    "    R_elim = []\n",
    "    for var in R.data.S\n",
    "        if Symbol(var) in [Symbol(key) for key in keys(derivatives)]\n",
    "            push!(S_proper, Symbol(var))\n",
    "        else    \n",
    "            push!(R_elim, Symbol(var))\n",
    "        end\n",
    "    end\n",
    "\n",
    "    # Create new ring, where the first block is the eliminated variables\n",
    "    R_vars_proper = append!(R_elim, S_proper)\n",
    "    R_names = [string(var) for var in R_vars_proper]\n",
    "    R_new, R_names = AlgebraicSolving.polynomial_ring(\n",
    "        base_ring(R), R_names, internal_ordering=:degrevlex)\n",
    "    \n",
    "    return R_new\n",
    "end"
   ]
  },
  {
   "cell_type": "code",
   "execution_count": 86,
   "metadata": {},
   "outputs": [
    {
     "name": "stdout",
     "output_type": "stream",
     "text": [
      "Multivariate polynomial ring in 6 variables over GF(101)[:x, :y, :u, :v, :l, :dl]\n",
      "Multivariate polynomial ring in 6 variables over GF(101)[:dl, :x, :y, :u, :v, :l]\n"
     ]
    }
   ],
   "source": [
    "ideal, derivatives, R = simple_pendulum()\n",
    "println(R, R.data.S)\n",
    "R_new = _manage_rings(ideal, derivatives, R)\n",
    "println(R_new, R_new.data.S)"
   ]
  },
  {
   "cell_type": "code",
   "execution_count": 96,
   "metadata": {},
   "outputs": [
    {
     "data": {
      "text/plain": [
       "6-element Vector{Int64}:\n",
       " 2\n",
       " 0\n",
       " 0\n",
       " 0\n",
       " 0\n",
       " 0"
      ]
     },
     "metadata": {},
     "output_type": "display_data"
    }
   ],
   "source": [
    "s = ideal[1]\n",
    "exponen = AbstractAlgebra.exponent_vector(s, 1)"
   ]
  },
  {
   "cell_type": "code",
   "execution_count": 97,
   "metadata": {},
   "outputs": [
    {
     "data": {
      "text/plain": [
       "6-element Vector{Symbol}:\n",
       " :dl\n",
       " :x\n",
       " :y\n",
       " :u\n",
       " :v\n",
       " :l"
      ]
     },
     "metadata": {},
     "output_type": "display_data"
    }
   ],
   "source": [
    "R_new.data.S"
   ]
  },
  {
   "cell_type": "code",
   "execution_count": null,
   "metadata": {},
   "outputs": [],
   "source": []
  }
 ],
 "metadata": {
  "kernelspec": {
   "display_name": "Julia 1.10.4",
   "language": "julia",
   "name": "julia-1.10"
  },
  "language_info": {
   "file_extension": ".jl",
   "mimetype": "application/julia",
   "name": "julia",
   "version": "1.10.4"
  }
 },
 "nbformat": 4,
 "nbformat_minor": 2
}
