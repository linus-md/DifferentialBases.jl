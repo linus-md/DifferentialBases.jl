{
 "cells": [
  {
   "cell_type": "code",
   "execution_count": 1,
   "metadata": {},
   "outputs": [],
   "source": [
    "using AlgebraicSolving: polynomial_ring, GF, Ideal, groebner_basis"
   ]
  },
  {
   "cell_type": "code",
   "execution_count": 3,
   "metadata": {},
   "outputs": [
    {
     "name": "stdout",
     "output_type": "stream",
     "text": [
      "iteration 1\n",
      "#G = 4\n",
      "iteration 2\n",
      "#G = 9\n",
      "iteration 3\n",
      "#G = 12\n"
     ]
    },
    {
     "data": {
      "text/plain": [
       "Nemo.FqMPolyRingElem[CB*kB + 100*RB, CB*Keq + 100*CA, RB*Keq + 100*CA*kB, V1*V2 + 100, RA*V1*Keq + 100*V1*CA*kB + RA*V1 + 100*CAi*Fi, V2*CAi*Fi + 100*RA*Keq + CA*kB + 100*RA, RA*V1*CA + 100*RB*V1*CA + RA*V1*CB + 100*CAi*CB*Fi, 100*V2^2*F + V2^2*Fi + dV2, RB*V2*Fi + 100*RA*kB + RB*kB + dRB, 100*RA*V2*F*Keq + RA*V2*Fi*Keq + V2*CA*F*kB + 100*dFi*V2*CAi + 100*RA*V2*F + 100*dCAi*V2*Fi + RA*V2*Fi + 100*RA*Keq*kB + CA*kB^2 + dRA*Keq + dRA, 100*dFi*V2*CAi*CB + 100*RA*V2*CA*F + RB*V2*CA*F + 100*RA*V2*CB*F + RA*V2*CA*Fi + 100*dCAi*V2*CB*Fi + RA*V2*CB*Fi + 100*RA*CA*kB + RB*CA*kB + dRA*CA + dRA*CB, RA^2*F*Keq + 100*RA^2*Fi*Keq + 100*RA^2*V1*kB + RA*RB*V1*kB + 99*RA*CA*F*kB + RB*CA*F*kB + RA*CA*Fi*kB + RA*CAi*Fi*kB + 100*RB*CAi*Fi*kB + dRA*RB*V1 + dFi*RA*CAi + 100*dFi*RB*CAi + RA^2*F + 100*RA*RB*F + dCAi*RA*Fi + 100*RA^2*Fi + 100*dCAi*RB*Fi + RA*RB*Fi + 100*dRA*CAi*Fi]"
      ]
     },
     "metadata": {},
     "output_type": "display_data"
    }
   ],
   "source": [
    "using DifferentialBases: differential_basis, fast_slow_reaction\n",
    "ideal, derivatives, R = fast_slow_reaction()\n",
    "diff_basis = differential_basis(ideal, derivatives, R, true)\n",
    "I = Ideal(diff_basis)"
   ]
  },
  {
   "cell_type": "code",
   "execution_count": 4,
   "metadata": {},
   "outputs": [
    {
     "name": "stdout",
     "output_type": "stream",
     "text": [
      "iteration 1\n",
      "#G = 2\n",
      "iteration 2\n",
      "#G = 5\n"
     ]
    },
    {
     "data": {
      "text/plain": [
       "Nemo.FqMPolyRingElem[x7^2 + 100*x2, x1*x4*Ks + 100*x6, 51*x1^4*x7*k1 + x1*x4^2*k3 + 51*x6*x7*k4 + 100*klA*pCO2*H + dx7*x7 + x2*klA, 51*x1^4*x2*k1 + x1*x4^2*x7*k3 + 100*x7*klA*pCO2*H + 51*x2*x6*k4 + x2*x7*klA + dx7*x2, 2*x1^3*x6*x7*k1 + 100*x1^2*x5*k2*K*Ks + x1*x3*x5*k2*Ks + 100*x3*x4*x5*k2*Ks + 2*x1*x4*x6*k3 + x4^2*x6*k3 + x5*x6*k2*K + dx6]"
      ]
     },
     "metadata": {},
     "output_type": "display_data"
    }
   ],
   "source": [
    "using DifferentialBases: differential_basis, akzo_nobel\n",
    "ideal, derivatives, R = akzo_nobel()\n",
    "diff_basis = differential_basis(ideal, derivatives, R, true)\n",
    "I = Ideal(diff_basis)"
   ]
  },
  {
   "cell_type": "code",
   "execution_count": 5,
   "metadata": {},
   "outputs": [
    {
     "name": "stdout",
     "output_type": "stream",
     "text": [
      "iteration 1\n",
      "#G = 1\n",
      "iteration 2\n",
      "#G = 3\n",
      "iteration 3\n",
      "#G = 7\n",
      "iteration 4\n",
      "#G = 8\n"
     ]
    },
    {
     "data": {
      "text/plain": [
       "Nemo.FqMPolyRingElem[u^2 + v^2 + 100*y + , x*u + y*v, x^2 + y^2 + 100, y*u*v + 100*x*v^2 + x*y + 100*x*, y^2*u + 100*x*y*v + 100*u, y^3 + 100*y^2* + v^2 + 100*y + , x*y^2 + 100*x*y* + u*v, dl + 98*v]"
      ]
     },
     "metadata": {},
     "output_type": "display_data"
    }
   ],
   "source": [
    "using DifferentialBases: differential_basis, simple_pendulum\n",
    "ideal, derivatives, R = simple_pendulum()\n",
    "diff_basis = differential_basis(ideal, derivatives, R, true)\n",
    "I = Ideal(diff_basis)"
   ]
  },
  {
   "cell_type": "code",
   "execution_count": 6,
   "metadata": {},
   "outputs": [
    {
     "name": "stdout",
     "output_type": "stream",
     "text": [
      "iteration 1\n",
      "#G = 1\n",
      "iteration 2\n",
      "#G = 3\n",
      "iteration 3\n",
      "#G = 7\n",
      "iteration 4\n",
      "#G = 11\n"
     ]
    },
    {
     "data": {
      "text/plain": [
       "Nemo.FqMPolyRingElem[v1^2 + v2^2 + 2*p3*l + 50*l + 51, p1*v1 + p2*v2 + 50*v3, p1^2 + p2^2 + 100*p3, p2*v1*v2 + 100*p1*v2^2 + 99*p1*p3*l + 50*v1*v3 + 51*p1*l + 50*p1, p2^2*v1 + 100*p1*p2*v2 + 100*p3*v1 + 51*p1*v3, p2^2*p3*l + 50*p3*v2^2 + 51*p2*v2*v3 + 25*p2^2*l + 100*p3^2*l + 76*p2^2 + 63*v3^2 + 76*p3*l + 25*p3, p1*p2*p3*l + 50*p3*v1*v2 + 76*p2*v1*v3 + 76*p1*v2*v3 + 25*p1*p2*l + 76*p1*p2, dl*p3 + 2*v3*l + 25*dl, 97*p2^2*v3*l^2 + dl*p2*v2*v3 + 2*v2^2*v3*l + 4*p3*v3*l^2 + 51*dl*p2^2 + 25*dl*v2^2 + 25*dl*v3^2 + v3*l + 63*dl, 93*p1*p2*v3*l^2 + dl*p2*v1*v3 + dl*p1*v2*v3 + 4*v1*v2*v3*l + dl*p1*p2 + 50*dl*v1*v2, 97*p1*p2*v2*v3*l^2 + dl*p1*v2^2*v3 + 2*v1*v2^2*v3*l + 99*p1*v3^2*l^2 + 51*dl*p1*p2*v2 + 25*dl*v1*v2^2 + 76*dl*v1*v3^2 + 76*dl*p1*v3]"
      ]
     },
     "metadata": {},
     "output_type": "display_data"
    }
   ],
   "source": [
    "using DifferentialBases: differential_basis, masspoint_parabola\n",
    "ideal, derivatives, R = masspoint_parabola()\n",
    "diff_basis = differential_basis(ideal, derivatives, R, true)\n",
    "I = Ideal(diff_basis)"
   ]
  },
  {
   "cell_type": "code",
   "execution_count": null,
   "metadata": {},
   "outputs": [],
   "source": []
  }
 ],
 "metadata": {
  "kernelspec": {
   "display_name": "Julia 1.10.4",
   "language": "julia",
   "name": "julia-1.10"
  },
  "language_info": {
   "file_extension": ".jl",
   "mimetype": "application/julia",
   "name": "julia",
   "version": "1.10.4"
  }
 },
 "nbformat": 4,
 "nbformat_minor": 2
}
